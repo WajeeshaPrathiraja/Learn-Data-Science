{
 "cells": [
  {
   "cell_type": "markdown",
   "id": "4b3d8a69-df55-4253-9897-c41444c206ad",
   "metadata": {},
   "source": [
    "# Data Science Tools and Ecosystem"
   ]
  },
  {
   "cell_type": "markdown",
   "id": "31e8e867-bbb9-431b-8872-82c9ed6a2b5f",
   "metadata": {},
   "source": [
    "In this notebook, Data Science Tools and Ecosystem are summarized."
   ]
  },
  {
   "cell_type": "markdown",
   "id": "5359450c-93b1-4508-9ea2-573bfcd7a6fb",
   "metadata": {},
   "source": [
    "**Objectives**\n",
    "* Identify commonly used languages is data science\n",
    "* Identify commonly used libraries is data science\n",
    "* Identify data science tools\n",
    "* Evaluating arithmatic expressions in Python"
   ]
  },
  {
   "cell_type": "markdown",
   "id": "322019a3-d8d7-4df4-9202-893cda96a10a",
   "metadata": {},
   "source": [
    "Some of the popular languages that Data Scientists use are:\n",
    "   1. Python\n",
    "   2. R\n",
    "   3. SQL\n",
    "   4. Java\n",
    "   5. Julia"
   ]
  },
  {
   "cell_type": "markdown",
   "id": "71a8e643-1634-4258-b9fc-c6271dea2ecf",
   "metadata": {
    "tags": []
   },
   "source": [
    "Some of the commonly used libraries used by Data Scientists include:\n",
    "   1. Pandas\n",
    "   2. Numpy\n",
    "   3. Matplotlist\n",
    "   4. ggplot"
   ]
  },
  {
   "cell_type": "markdown",
   "id": "a0cf4c81-da07-4e19-83ac-e984798bbd0b",
   "metadata": {},
   "source": [
    "| Data Science Tools |\n",
    "|--------------------|\n",
    "| R Studio |\n",
    "| Apache Spark |\n",
    "| TensorFlow |\n",
    "| Apache Hadoop |"
   ]
  },
  {
   "cell_type": "markdown",
   "id": "5eaaf3bc-8033-49b9-9c30-8152f1d8e44e",
   "metadata": {},
   "source": [
    "### Below are a few examples of evaluating arithmetic expressions in Python"
   ]
  },
  {
   "cell_type": "code",
   "execution_count": 3,
   "id": "da45115a-bb99-4629-a937-3d902ef72444",
   "metadata": {
    "tags": []
   },
   "outputs": [
    {
     "data": {
      "text/plain": [
       "17"
      ]
     },
     "execution_count": 3,
     "metadata": {},
     "output_type": "execute_result"
    }
   ],
   "source": [
    "# This a simple arithmetic expression to mutiply then add integers\n",
    "(3*4)+5"
   ]
  },
  {
   "cell_type": "code",
   "execution_count": 5,
   "id": "424c1871-5a65-45cd-8f26-47b68a953663",
   "metadata": {
    "tags": []
   },
   "outputs": [
    {
     "data": {
      "text/plain": [
       "3.3333333333333335"
      ]
     },
     "execution_count": 5,
     "metadata": {},
     "output_type": "execute_result"
    }
   ],
   "source": [
    "# This will convert 200 minutes to hours by diving by 60.\n",
    "(200/60)"
   ]
  },
  {
   "cell_type": "markdown",
   "id": "ff93164b-91f2-4fa3-810b-c0c101257d7b",
   "metadata": {
    "tags": []
   },
   "source": [
    "## Author\n",
    "Wajeesha Prathiraja"
   ]
  },
  {
   "cell_type": "code",
   "execution_count": null,
   "id": "cc2899bb-0ed7-4a23-a64f-4c59071eee7c",
   "metadata": {},
   "outputs": [],
   "source": []
  }
 ],
 "metadata": {
  "kernelspec": {
   "display_name": "Python",
   "language": "python",
   "name": "conda-env-python-py"
  },
  "language_info": {
   "codemirror_mode": {
    "name": "ipython",
    "version": 3
   },
   "file_extension": ".py",
   "mimetype": "text/x-python",
   "name": "python",
   "nbconvert_exporter": "python",
   "pygments_lexer": "ipython3",
   "version": "3.7.12"
  }
 },
 "nbformat": 4,
 "nbformat_minor": 5
}
